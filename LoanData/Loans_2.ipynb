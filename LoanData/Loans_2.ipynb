{
  "nbformat": 4,
  "nbformat_minor": 0,
  "metadata": {
    "colab": {
      "name": "Loans_2",
      "provenance": [],
      "authorship_tag": "ABX9TyOybx03kOJlnzOqKEEb5Cji"
    },
    "kernelspec": {
      "name": "python3",
      "display_name": "Python 3"
    }
  },
  "cells": [
    {
      "cell_type": "code",
      "metadata": {
        "id": "vgJeZ6aTSMLV",
        "outputId": "ae2eda1a-85af-4d1a-eb21-4d42950baff8",
        "colab": {
          "base_uri": "https://localhost:8080/",
          "height": 35
        }
      },
      "source": [
        "from google.colab import drive\n",
        "drive.mount(\"/content/gdrive\")"
      ],
      "execution_count": 1,
      "outputs": [
        {
          "output_type": "stream",
          "text": [
            "Drive already mounted at /content/gdrive; to attempt to forcibly remount, call drive.mount(\"/content/gdrive\", force_remount=True).\n"
          ],
          "name": "stdout"
        }
      ]
    },
    {
      "cell_type": "markdown",
      "metadata": {
        "id": "QpWnWKBbYnQb"
      },
      "source": [
        "# Library Imports"
      ]
    },
    {
      "cell_type": "code",
      "metadata": {
        "id": "GaaypSdxSRlr"
      },
      "source": [
        "import numpy as np\n",
        "import pandas as pd\n",
        "import matplotlib.pyplot as plt\n",
        "\n",
        "import torch\n",
        "import torch.nn.functional as F\n",
        "from torch.utils.data import Dataset\n",
        "from torch.utils.data import DataLoader as DL\n",
        "from torch.nn.utils import weight_norm as WN\n",
        "from torch import nn, optim\n",
        "\n",
        "from time import time\n",
        "import random as r\n",
        "\n",
        "from sklearn.model_selection import KFold, train_test_split\n",
        "from sklearn.preprocessing import StandardScaler\n",
        "from sklearn.impute import SimpleImputer\n",
        "from sklearn.metrics import accuracy_score, f1_score\n",
        "\n",
        "from sklearn.linear_model import LinearRegression\n",
        "from sklearn.neighbors import KNeighborsClassifier\n",
        "from sklearn.naive_bayes import GaussianNB\n",
        "from sklearn.tree import DecisionTreeClassifier\n",
        "from sklearn.ensemble import RandomForestClassifier\n",
        "from sklearn.svm import SVC\n",
        "\n",
        "from xgboost import XGBClassifier\n",
        "\n",
        "datapath = \"/content/gdrive/My Drive/Datasets/Loans/\"\n",
        "\n",
        "si = SimpleImputer(missing_values=np.nan, strategy=\"mean\")"
      ],
      "execution_count": 2,
      "outputs": []
    },
    {
      "cell_type": "markdown",
      "metadata": {
        "id": "G43FJjlTYpKQ"
      },
      "source": [
        "# Helper Functions"
      ]
    },
    {
      "cell_type": "code",
      "metadata": {
        "id": "OPmMtIuGTmv2"
      },
      "source": [
        "def breaker():\n",
        "  print(\"\\n\" + 30*\"-\" + \"\\n\")\n",
        "\n",
        "def head(x, no_of_ele=5):\n",
        "  breaker()\n",
        "  print(x[:no_of_ele])\n",
        "  breaker()\n",
        "\n",
        "def getCol(x):\n",
        "  return [col for col in x.columns]\n",
        "\n",
        "def getObjCols(x):\n",
        "  s = (x.dtypes == \"object\")\n",
        "  return list(s[s].index)\n",
        "\n",
        "def preprocess(x, *args):\n",
        "  df = x.copy()\n",
        "  df[args[0]] = df[args[0]].map({\"Male\" : 1, \"Female\" : 0})\n",
        "  df[args[1]] = df[args[1]].map({\"Yes\" : 1, \"No\" : 0})\n",
        "  df[args[2]] = df[args[2]].map({\"0\" : 0, \"1\" : 1, \"2\" : 2, \"3+\" : 3})\n",
        "  df[args[3]] = df[args[3]].map({\"Not Graduate\" : 0, \"Graduate\" : 1})\n",
        "  df[args[4]] = df[args[4]].map({\"Yes\" : 1, \"No\" : 0})\n",
        "  df[args[5]] = df[args[5]].map({\"Rural\" : 0, \"Semiurban\" : 1, \"Urban\" : 2})\n",
        "  df[args[6]] = df[args[6]].map({\"Y\" : 1, \"N\" : 0})\n",
        "  return df"
      ],
      "execution_count": 3,
      "outputs": []
    },
    {
      "cell_type": "markdown",
      "metadata": {
        "id": "m1ctSxJ2YrCW"
      },
      "source": [
        "# Data Handling"
      ]
    },
    {
      "cell_type": "markdown",
      "metadata": {
        "id": "bVJ8jzxxYsrE"
      },
      "source": [
        "**Input**"
      ]
    },
    {
      "cell_type": "code",
      "metadata": {
        "id": "wQCHQqGPTXcM",
        "outputId": "42a3fac3-b37a-4557-92a8-678aef89fa4d",
        "colab": {
          "base_uri": "https://localhost:8080/",
          "height": 488
        }
      },
      "source": [
        "dataset = pd.read_csv(datapath + \"Loans_2.csv\")\n",
        "\n",
        "breaker()\n",
        "print(dataset.head(5))\n",
        "breaker()\n",
        "print(dataset.shape)\n",
        "breaker()\n",
        "print(getCol(dataset))\n",
        "breaker()\n",
        "print(getObjCols(dataset))\n",
        "breaker()\n",
        "\n",
        "df = preprocess(dataset, \"Gender\", \"Married\", \"Dependents\", \"Education\", \"Self_Employed\", \"Property_Area\", \"Loan_Status\")"
      ],
      "execution_count": 4,
      "outputs": [
        {
          "output_type": "stream",
          "text": [
            "\n",
            "------------------------------\n",
            "\n",
            "    Loan_ID Gender Married  ... Credit_History Property_Area Loan_Status\n",
            "0  LP001002   Male      No  ...            1.0         Urban           Y\n",
            "1  LP001003   Male     Yes  ...            1.0         Rural           N\n",
            "2  LP001005   Male     Yes  ...            1.0         Urban           Y\n",
            "3  LP001006   Male     Yes  ...            1.0         Urban           Y\n",
            "4  LP001008   Male      No  ...            1.0         Urban           Y\n",
            "\n",
            "[5 rows x 13 columns]\n",
            "\n",
            "------------------------------\n",
            "\n",
            "(614, 13)\n",
            "\n",
            "------------------------------\n",
            "\n",
            "['Loan_ID', 'Gender', 'Married', 'Dependents', 'Education', 'Self_Employed', 'ApplicantIncome', 'CoapplicantIncome', 'LoanAmount', 'Loan_Amount_Term', 'Credit_History', 'Property_Area', 'Loan_Status']\n",
            "\n",
            "------------------------------\n",
            "\n",
            "['Loan_ID', 'Gender', 'Married', 'Dependents', 'Education', 'Self_Employed', 'Property_Area', 'Loan_Status']\n",
            "\n",
            "------------------------------\n",
            "\n"
          ],
          "name": "stdout"
        }
      ]
    },
    {
      "cell_type": "markdown",
      "metadata": {
        "id": "kdFVv4BvYu7Q"
      },
      "source": [
        "**Preprocessing**"
      ]
    },
    {
      "cell_type": "code",
      "metadata": {
        "id": "Aqc9nRrRW4wR"
      },
      "source": [
        "final_df_X = df.iloc[:, 1:-1].copy().values\n",
        "final_df_y = df.iloc[:, -1].copy().values\n",
        "\n",
        "final_df_X = si.fit_transform(final_df_X)\n",
        "\n",
        "X, X_test, y, y_test = train_test_split(final_df_X, final_df_y, test_size=114, shuffle=True, random_state=0)"
      ],
      "execution_count": 5,
      "outputs": []
    },
    {
      "cell_type": "markdown",
      "metadata": {
        "id": "bcdVmau-YxPu"
      },
      "source": [
        "# Sklearn and XGB"
      ]
    },
    {
      "cell_type": "code",
      "metadata": {
        "id": "SR5wbHHGXMS9",
        "outputId": "93d104d2-f9d3-4505-9abe-11e6d4e6d891",
        "colab": {
          "base_uri": "https://localhost:8080/",
          "height": 676
        }
      },
      "source": [
        "accs = []\n",
        "f1_s = []\n",
        "\n",
        "########## MLR ##########\n",
        "mlr = LinearRegression()\n",
        "mlr.fit(X, y)\n",
        "y_pred = mlr.predict(X_test)\n",
        "\n",
        "y_pred[(np.argwhere(y_pred <= 0.5)[:, 0])] = 0\n",
        "y_pred[(np.argwhere(y_pred > 0.5)[:, 0])]  = 1\n",
        "\n",
        "breaker()\n",
        "print(\"MLR Accuracy : {:.4f} %\".format(accuracy_score(y_test, y_pred) * 100))\n",
        "print(\"MLR F1 Score : {:.5f}\".format(f1_score(y_test, y_pred)))\n",
        "accs.append(accuracy_score(y_test, y_pred) * 100)\n",
        "f1_s.append(f1_score(y_test, y_pred))\n",
        "\n",
        "########## KNC ##########\n",
        "knc = KNeighborsClassifier()\n",
        "knc.fit(X, y)\n",
        "y_pred = knc.predict(X_test)\n",
        "\n",
        "breaker()\n",
        "print(\"KNC Accuracy : {:.4f} %\".format(accuracy_score(y_test, y_pred) * 100))\n",
        "print(\"KNC F1 Score : {:.5f}\".format(f1_score(y_test, y_pred)))\n",
        "accs.append(accuracy_score(y_test, y_pred) * 100)\n",
        "f1_s.append(f1_score(y_test, y_pred))\n",
        "\n",
        "########## SVC ##########\n",
        "svc = SVC(kernel=\"rbf\")\n",
        "svc.fit(X, y)\n",
        "y_pred = svc.predict(X_test)\n",
        "\n",
        "breaker()\n",
        "print(\"SVC Accuracy : {:.4f} %\".format(accuracy_score(y_test, y_pred) * 100))\n",
        "print(\"SVC F1 Score : {:.5f}\".format(f1_score(y_test, y_pred)))\n",
        "accs.append(accuracy_score(y_test, y_pred) * 100)\n",
        "f1_s.append(f1_score(y_test, y_pred))\n",
        "\n",
        "########## GNB ##########\n",
        "gnb = GaussianNB()\n",
        "gnb.fit(X, y)\n",
        "y_pred = gnb.predict(X_test)\n",
        "\n",
        "breaker()\n",
        "print(\"GNB Accuracy : {:.4f} %\".format(accuracy_score(y_test, y_pred) * 100))\n",
        "print(\"GNB F1 Score : {:.5f}\".format(f1_score(y_test, y_pred)))\n",
        "accs.append(accuracy_score(y_test, y_pred) * 100)\n",
        "f1_s.append(f1_score(y_test, y_pred))\n",
        "\n",
        "########## DTC ##########\n",
        "dtc = DecisionTreeClassifier(random_state=0)\n",
        "dtc.fit(X, y)\n",
        "y_pred = dtc.predict(X_test)\n",
        "\n",
        "breaker()\n",
        "print(\"DTC Accuracy : {:.4f} %\".format(accuracy_score(y_test, y_pred) * 100))\n",
        "print(\"DTC F1 Score : {:.5f}\".format(f1_score(y_test, y_pred)))\n",
        "accs.append(accuracy_score(y_test, y_pred) * 100)\n",
        "f1_s.append(f1_score(y_test, y_pred))\n",
        "\n",
        "########## RFC ##########\n",
        "rfc = RandomForestClassifier(random_state=0)\n",
        "rfc.fit(X, y)\n",
        "y_pred = rfc.predict(X_test)\n",
        "\n",
        "breaker()\n",
        "print(\"RFC Accuracy : {:.4f} %\".format(accuracy_score(y_test, y_pred) * 100))\n",
        "print(\"RFC F1 Score : {:.5f}\".format(f1_score(y_test, y_pred)))\n",
        "accs.append(accuracy_score(y_test, y_pred) * 100)\n",
        "f1_s.append(f1_score(y_test, y_pred))\n",
        "\n",
        "########## XGR ##########\n",
        "xgc = XGBClassifier()\n",
        "xgc.fit(X, y)\n",
        "y_pred = xgc.predict(X_test)\n",
        "\n",
        "breaker()\n",
        "print(\"XGC Accuracy : {:.4f} %\".format(accuracy_score(y_test, y_pred) * 100))\n",
        "print(\"XGC F1 Score : {:.5f}\".format(f1_score(y_test, y_pred)))\n",
        "accs.append(accuracy_score(y_test, y_pred) * 100)\n",
        "f1_s.append(f1_score(y_test, y_pred))\n",
        "breaker()"
      ],
      "execution_count": 6,
      "outputs": [
        {
          "output_type": "stream",
          "text": [
            "\n",
            "------------------------------\n",
            "\n",
            "MLR Accuracy : 83.3333 %\n",
            "MLR F1 Score : 0.89617\n",
            "\n",
            "------------------------------\n",
            "\n",
            "KNC Accuracy : 64.0351 %\n",
            "KNC F1 Score : 0.76836\n",
            "\n",
            "------------------------------\n",
            "\n",
            "SVC Accuracy : 72.8070 %\n",
            "SVC F1 Score : 0.84264\n",
            "\n",
            "------------------------------\n",
            "\n",
            "GNB Accuracy : 82.4561 %\n",
            "GNB F1 Score : 0.89011\n",
            "\n",
            "------------------------------\n",
            "\n",
            "DTC Accuracy : 72.8070 %\n",
            "DTC F1 Score : 0.80255\n",
            "\n",
            "------------------------------\n",
            "\n",
            "RFC Accuracy : 78.0702 %\n",
            "RFC F1 Score : 0.86034\n",
            "\n",
            "------------------------------\n",
            "\n",
            "XGC Accuracy : 80.7018 %\n",
            "XGC F1 Score : 0.87778\n",
            "\n",
            "------------------------------\n",
            "\n"
          ],
          "name": "stdout"
        }
      ]
    },
    {
      "cell_type": "markdown",
      "metadata": {
        "id": "VA4V-3ZFc0i8"
      },
      "source": [
        "# ANN"
      ]
    },
    {
      "cell_type": "markdown",
      "metadata": {
        "id": "qeDJKFkIc66S"
      },
      "source": [
        "**Dataset Template**"
      ]
    },
    {
      "cell_type": "code",
      "metadata": {
        "id": "ZWkxGfY2YP9d"
      },
      "source": [
        "class DS(Dataset):\n",
        "  def __init__(this, X=None, y=None, mode=\"train\"):\n",
        "    this.mode = mode\n",
        "    this.X = X\n",
        "    if mode == \"train\":\n",
        "      this.y = y\n",
        "    \n",
        "  def __len__(this):\n",
        "    return this.X.shape[0]\n",
        "\n",
        "  def __getitem__(this, idx):\n",
        "    if this.mode == \"train\":\n",
        "      return torch.FloatTensor(this.X[idx]), torch.FloatTensor(this.y[idx])\n",
        "    else:\n",
        "      return torch.FloatTenspr(this.X[idx])"
      ],
      "execution_count": 7,
      "outputs": []
    },
    {
      "cell_type": "code",
      "metadata": {
        "id": "1UDUFZFAhCf4"
      },
      "source": [
        "X = X.astype(float)\n",
        "y = y.astype(float)\n",
        "X_test = X_test.astype(float)\n",
        "y_test = y_test.astype(float)\n",
        "\n",
        "num_features = X.shape[1]\n",
        "num_obs_test = X_test.shape[0]"
      ],
      "execution_count": 8,
      "outputs": []
    },
    {
      "cell_type": "code",
      "metadata": {
        "id": "dNaf2DoLg47n"
      },
      "source": [
        "class CFG():\n",
        "  epochs = 100\n",
        "  device = torch.device(\"cuda:0\" if torch.cuda.is_available() else \"cpu\")\n",
        "\n",
        "  IL = num_features\n",
        "  HL_1 = [8]\n",
        "  HL_2 = [16, 16]\n",
        "  OL = 1\n",
        "\n",
        "  tr_batch_size = 128\n",
        "  ts_batch_size = num_obs_test\n",
        "\n",
        "cfg = CFG()\n",
        "\n",
        "ts_data_setup = DS(X_test, y_test.reshape(-1,1))\n",
        "ts_data = DL(ts_data_setup, batch_size=cfg.ts_batch_size, shuffle=False)"
      ],
      "execution_count": 9,
      "outputs": []
    },
    {
      "cell_type": "code",
      "metadata": {
        "id": "_i6fkfvHa0bn"
      },
      "source": [
        "class ANN(nn.Module):\n",
        "  def __init__(this, IL=None, HL=None, OL=None):\n",
        "    super(ANN, this).__init__()\n",
        "    this.HL = HL\n",
        "    this.DP1 = nn.Dropout(p=0.2)\n",
        "    this.DP2 = nn.Dropout(p=0.5)\n",
        "\n",
        "    if len(HL) == 1:\n",
        "      this.BN1 = nn.BatchNorm1d(IL)\n",
        "      this.FC1 = WN(nn.Linear(IL, HL[0]))\n",
        "\n",
        "      this.BN2 = nn.BatchNorm1d(HL[0])\n",
        "      this.FC2 = WN(nn.Linear(HL[0], OL))\n",
        "    elif len(HL) == 2:\n",
        "      this.BN1 = nn.BatchNorm1d(IL)\n",
        "      this.FC1 = WN(nn.Linear(IL, HL[0]))\n",
        "\n",
        "      this.BN2 = nn.BatchNorm1d(HL[0])\n",
        "      this.FC2 = WN(nn.Linear(HL[0], HL[1]))\n",
        "\n",
        "      this.BN3 = nn.BatchNorm1d(HL[1])\n",
        "      this.FC3 = WN(nn.Linear(HL[1], OL))\n",
        "    else:\n",
        "      raise NotImplementedError(\"Only Supports Network of Depth 1 and 2\")\n",
        "    \n",
        "  def getOptimizer(this):\n",
        "    return optim.Adam(this.parameters(), lr=1e-3, weight_decay=1e-5)\n",
        "\n",
        "  def forward(this, x):\n",
        "    if len(this.HL) == 1:\n",
        "      x = this.BN1(x)\n",
        "      x = this.DP1(x)\n",
        "      x = F.relu(this.FC1(x))\n",
        "      x = this.BN2(x)\n",
        "      x = this.DP2(x)\n",
        "      x = torch.sigmoid(this.FC2(x))\n",
        "      return x\n",
        "    else:\n",
        "      x = this.BN1(x)\n",
        "      x = this.DP1(x)\n",
        "      x = F.relu(this.FC1(x))\n",
        "      x = this.BN2(x)\n",
        "      x = this.DP2(x)\n",
        "      x = F.relu(this.FC2(x))\n",
        "      x = this.BN3(x)\n",
        "      x = this.DP2(x)\n",
        "      x = torch.sigmoid(this.FC3(x))\n",
        "      return x"
      ],
      "execution_count": 10,
      "outputs": []
    },
    {
      "cell_type": "code",
      "metadata": {
        "id": "zAWXCDK8a1rI"
      },
      "source": [
        "def train_fn(X=None, y=None, HL_Used=None):\n",
        "  LP = []\n",
        "\n",
        "  torch.manual_seed(0)\n",
        "  model = ANN(cfg.IL, HL_Used, cfg.OL)\n",
        "  model.to(cfg.device)\n",
        "\n",
        "  optimizer = model.getOptimizer()\n",
        "\n",
        "  tr_data_setup = DS(X, y.reshape(-1,1))\n",
        "  tr_data = DL(tr_data_setup, batch_size=cfg.tr_batch_size, shuffle=True, generator=torch.manual_seed(0))\n",
        "\n",
        "  start_time = time()\n",
        "  for e in range(cfg.epochs):\n",
        "    lossPerPass = 0\n",
        "    for feat, label in tr_data:\n",
        "      feat, label = feat.to(cfg.device), label.to(cfg.device)\n",
        "\n",
        "      optimizer.zero_grad()\n",
        "      output = model(feat)\n",
        "      loss   = nn.BCELoss()(output, label)\n",
        "      loss.backward()\n",
        "      lossPerPass = (loss.item()/label.shape[0])\n",
        "      optimizer.step()\n",
        "    LP.append(lossPerPass)\n",
        "\n",
        "  breaker()\n",
        "  print(\"Time Taken to Train for {e} epochs : {:.5f} seconds\".format(time()-start_time, e=cfg.epochs))\n",
        "  breaker()\n",
        "\n",
        "  return LP, model\n",
        "\n",
        "def eval_fn(model=None, dataloader=None):\n",
        "  Pred = torch.zeros(cfg.ts_batch_size, 1).to(cfg.device)\n",
        "\n",
        "  model.eval()\n",
        "  for X, y in ts_data:\n",
        "    X = X.to(cfg.device)\n",
        "    with torch.no_grad():\n",
        "      Prob = model(X)\n",
        "    Pred = torch.cat((Pred, Prob), dim=0)\n",
        "\n",
        "  Pred = Pred[cfg.ts_batch_size:]\n",
        "  Pred = Pred.cpu().numpy()\n",
        "  Pred[np.argwhere(Pred > 0.5)[:, 0]]  = int(1)\n",
        "  Pred[np.argwhere(Pred <= 0.5)[:, 0]] = int(0)\n",
        "  return Pred.reshape(-1)"
      ],
      "execution_count": 11,
      "outputs": []
    },
    {
      "cell_type": "code",
      "metadata": {
        "id": "SI9cvgMgjnjK",
        "outputId": "c2ce926d-3f7c-4c85-c365-961a7a250d43",
        "colab": {
          "base_uri": "https://localhost:8080/",
          "height": 593
        }
      },
      "source": [
        "LP_1, Network_1 = train_fn(X=X, y=y, HL_Used=cfg.HL_1)\n",
        "LP_2, Network_2 = train_fn(X=X, y=y, HL_Used=cfg.HL_2)\n",
        "\n",
        "x_Axis = [i+1 for i in range(cfg.epochs)]\n",
        "\n",
        "plt.figure(figsize=(10, 5))\n",
        "plt.plot(x_Axis, LP_1, \"r\", label=\"Network 1\")\n",
        "plt.plot(x_Axis, LP_2, \"b--\", label=\"Network 2\")\n",
        "plt.xlabel(\"Epochs --->\")\n",
        "plt.ylabel(\"Loss\")\n",
        "plt.title(\"Training Loss\")\n",
        "plt.legend()\n",
        "plt.show()"
      ],
      "execution_count": 12,
      "outputs": [
        {
          "output_type": "stream",
          "text": [
            "\n",
            "------------------------------\n",
            "\n",
            "Time Taken to Train for 100 epochs : 1.57168 seconds\n",
            "\n",
            "------------------------------\n",
            "\n",
            "\n",
            "------------------------------\n",
            "\n",
            "Time Taken to Train for 100 epochs : 1.85311 seconds\n",
            "\n",
            "------------------------------\n",
            "\n"
          ],
          "name": "stdout"
        },
        {
          "output_type": "display_data",
          "data": {
            "image/png": "[encoded data removed]",
            "text/plain": [
              "<Figure size 720x360 with 1 Axes>"
            ]
          },
          "metadata": {
            "tags": [],
            "needs_background": "light"
          }
        }
      ]
    },
    {
      "cell_type": "code",
      "metadata": {
        "id": "Qaliy0XelKLi",
        "outputId": "5e8123bc-9a28-4a95-99ef-90e458d99696",
        "colab": {
          "base_uri": "https://localhost:8080/",
          "height": 191
        }
      },
      "source": [
        "y_pred_1 = eval_fn(Network_1, ts_data)\n",
        "y_pred_2 = eval_fn(Network_2, ts_data)\n",
        "\n",
        "breaker()\n",
        "print(\"ANN_1 Accuracy : {:.4f} %\".format(accuracy_score(y_test, y_pred_1) * 100))\n",
        "print(\"ANN_1 F1 Score : {:.5f}\".format(f1_score(y_test, y_pred_1)))\n",
        "print(\"ANN_2 Accuracy : {:.4f} %\".format(accuracy_score(y_test, y_pred_2) * 100))\n",
        "print(\"ANN_2 F1 Score : {:.5f}\".format(f1_score(y_test, y_pred_2)))\n",
        "accs.append(accuracy_score(y_test, y_pred_1) * 100)\n",
        "f1_s.append(f1_score(y_test, y_pred_1))\n",
        "accs.append(accuracy_score(y_test, y_pred_2) * 100)\n",
        "f1_s.append(f1_score(y_test, y_pred_2))\n",
        "breaker()"
      ],
      "execution_count": 13,
      "outputs": [
        {
          "output_type": "stream",
          "text": [
            "\n",
            "------------------------------\n",
            "\n",
            "ANN_1 Accuracy : 83.3333 %\n",
            "ANN_1 F1 Score : 0.89617\n",
            "ANN_2 Accuracy : 82.4561 %\n",
            "ANN_2 F1 Score : 0.89130\n",
            "\n",
            "------------------------------\n",
            "\n"
          ],
          "name": "stdout"
        }
      ]
    },
    {
      "cell_type": "code",
      "metadata": {
        "id": "6xa7uH-PmCYN",
        "outputId": "b0598da6-7a73-40ed-f53f-5804bca6780f",
        "colab": {
          "base_uri": "https://localhost:8080/",
          "height": 861
        }
      },
      "source": [
        "labels = [\"MLR\", \"KNC\", \"SVC\", \"GNB\", \"DTC\", \"RFC\", \"XGC\", \"ANN_1\", \"ANN_2\"]\n",
        "\n",
        "x_Axis = [i for i in range(len(accs))]\n",
        "\n",
        "fig = plt.figure(figsize=(12,5))\n",
        "ax = fig.add_axes([1, 1, 1, 1])\n",
        "ax.stem(x_Axis, accs, markerfmt=\"bo\", linefmt=\"r-\", use_line_collection=True)\n",
        "ax.set_xlabel(\"Models\")\n",
        "ax.set_ylabel(\"Accuarcy\")\n",
        "ax.set_title(\"Models v/s Accuracy\")\n",
        "ax.set_xticks(x_Axis)\n",
        "ax.set_xticklabels(labels)\n",
        "plt.show()\n",
        "\n",
        "fig = plt.figure(figsize=(12,5))\n",
        "ax = fig.add_axes([1, 1, 1, 1])\n",
        "ax.stem(x_Axis, f1_s, markerfmt=\"bo\", linefmt=\"r-\", use_line_collection=True)\n",
        "ax.set_xlabel(\"Models\")\n",
        "ax.set_ylabel(\"Accuarcy\")\n",
        "ax.set_title(\"Models v/s F1 Score\")\n",
        "ax.set_xticks(x_Axis)\n",
        "ax.set_xticklabels(labels)\n",
        "plt.show()"
      ],
      "execution_count": 14,
      "outputs": [
        {
          "output_type": "display_data",
          "data": {
            "image/png": "[encoded data removed]",
            "text/plain": [
              "<Figure size 864x360 with 1 Axes>"
            ]
          },
          "metadata": {
            "tags": [],
            "needs_background": "light"
          }
        },
        {
          "output_type": "display_data",
          "data": {
            "image/png": "[encoded data removed]",
            "text/plain": [
              "<Figure size 864x360 with 1 Axes>"
            ]
          },
          "metadata": {
            "tags": [],
            "needs_background": "light"
          }
        }
      ]
    },
    {
      "cell_type": "code",
      "metadata": {
        "id": "P8Dsn6wmq6lx"
      },
      "source": [
        ""
      ],
      "execution_count": 14,
      "outputs": []
    }
  ]
}
